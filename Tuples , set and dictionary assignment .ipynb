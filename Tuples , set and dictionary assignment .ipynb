{
 "cells": [
  {
   "cell_type": "markdown",
   "id": "0333c4ba",
   "metadata": {},
   "source": [
    "# 1. What are the characteristics of the tuples? Is tuple immutable?"
   ]
  },
  {
   "cell_type": "markdown",
   "id": "bbfaa304",
   "metadata": {},
   "source": [
    "charcteristics of tuple ---->\n",
    "1. we can iterate through the tuple by using loop function . \n",
    "\n",
    "2. we can store maximum elements we want to store in tuples \n",
    "\n",
    "3.tuples are immutable . we can't do any mutation function with tuples \n",
    "\n",
    "4.tuples can store any type of data like int , float and string and even complex data and also it can hold data structures like list , dictionaries , sets too .\n",
    "\n",
    "5.with tuples we can also do the indexing and slicing operation . where the first index starts with 0 and from the last , very first index is -1 \n"
   ]
  },
  {
   "cell_type": "markdown",
   "id": "89340a6f",
   "metadata": {},
   "source": [
    "yes tuples are immutable . we can not do any type of mutation of in tuples "
   ]
  },
  {
   "cell_type": "markdown",
   "id": "476c4ab4",
   "metadata": {},
   "source": [
    "# 2.What are the two tuple methods in python? Give an example of each method. Give a reason why tuples have only two in-built methods as compared to Lists.\n"
   ]
  },
  {
   "cell_type": "markdown",
   "id": "1c8f615e",
   "metadata": {},
   "source": [
    "tuples have only two method  \n",
    "1 is count and other is index "
   ]
  },
  {
   "cell_type": "code",
   "execution_count": 1,
   "id": "8700a617",
   "metadata": {},
   "outputs": [],
   "source": [
    "# count method\n",
    "a= (1,2,3,45,5,6,7,'krish' , 'rohan' , True , False)"
   ]
  },
  {
   "cell_type": "code",
   "execution_count": 2,
   "id": "d0d6522d",
   "metadata": {},
   "outputs": [
    {
     "data": {
      "text/plain": [
       "2"
      ]
     },
     "execution_count": 2,
     "metadata": {},
     "output_type": "execute_result"
    }
   ],
   "source": [
    "a.count(1) # here when we count 1 then it's also considering True as 1 because bool(True) = 1 "
   ]
  },
  {
   "cell_type": "code",
   "execution_count": 3,
   "id": "6faf79a9",
   "metadata": {},
   "outputs": [
    {
     "data": {
      "text/plain": [
       "1"
      ]
     },
     "execution_count": 3,
     "metadata": {},
     "output_type": "execute_result"
    }
   ],
   "source": [
    "# in same way false will be consider as 0 in count method \n",
    "a.count(False)"
   ]
  },
  {
   "cell_type": "code",
   "execution_count": 4,
   "id": "e4082f76",
   "metadata": {},
   "outputs": [
    {
     "data": {
      "text/plain": [
       "1"
      ]
     },
     "execution_count": 4,
     "metadata": {},
     "output_type": "execute_result"
    }
   ],
   "source": [
    "a.count(5)"
   ]
  },
  {
   "cell_type": "code",
   "execution_count": 5,
   "id": "c904d84e",
   "metadata": {},
   "outputs": [
    {
     "data": {
      "text/plain": [
       "4"
      ]
     },
     "execution_count": 5,
     "metadata": {},
     "output_type": "execute_result"
    }
   ],
   "source": [
    "#index method \n",
    "a.index(5)"
   ]
  },
  {
   "cell_type": "code",
   "execution_count": 6,
   "id": "8ed56c07",
   "metadata": {},
   "outputs": [
    {
     "data": {
      "text/plain": [
       "0"
      ]
     },
     "execution_count": 6,
     "metadata": {},
     "output_type": "execute_result"
    }
   ],
   "source": [
    "a.index(1) "
   ]
  },
  {
   "cell_type": "code",
   "execution_count": 7,
   "id": "8cf24ced",
   "metadata": {},
   "outputs": [
    {
     "data": {
      "text/plain": [
       "0"
      ]
     },
     "execution_count": 7,
     "metadata": {},
     "output_type": "execute_result"
    }
   ],
   "source": [
    "a.index(True) # will consider 1 as True and 0 as False "
   ]
  },
  {
   "cell_type": "markdown",
   "id": "9a80010e",
   "metadata": {},
   "source": [
    "why tuples have only two built in method ---->>> i generally think that the reason behind it is that tuples are immutable . and due to its immutability we can not apply more methods on tuples ."
   ]
  },
  {
   "cell_type": "markdown",
   "id": "b6426ed7",
   "metadata": {},
   "source": [
    "while list are mutable that makes it different than tuple due to it's mutability factor i think list have more methods than tuple ."
   ]
  },
  {
   "cell_type": "markdown",
   "id": "2995a8f3",
   "metadata": {},
   "source": [
    "# Which collection datatypes in python do not allow duplicate items? Write a code using a set to remove \n",
    "duplicates from the given list."
   ]
  },
  {
   "cell_type": "markdown",
   "id": "adac9d8b",
   "metadata": {},
   "source": [
    "set is the data structure that doen't allow the characters/items or duplicate eliments even if we pass the input with dupicate items it will remove the duplicates value and make only a collection of unique elements/items and character ."
   ]
  },
  {
   "cell_type": "code",
   "execution_count": 9,
   "id": "51fcc070",
   "metadata": {},
   "outputs": [],
   "source": [
    "# lets make a list with duplicate value \n",
    "l =[12,12,34,34,55,55,65,65,67,67,76,76,67,88,88,88,99]"
   ]
  },
  {
   "cell_type": "code",
   "execution_count": 10,
   "id": "cc79fd62",
   "metadata": {},
   "outputs": [
    {
     "data": {
      "text/plain": [
       "[12, 12, 34, 34, 55, 55, 65, 65, 67, 67, 76, 76, 67, 88, 88, 88, 99]"
      ]
     },
     "execution_count": 10,
     "metadata": {},
     "output_type": "execute_result"
    }
   ],
   "source": [
    "l"
   ]
  },
  {
   "cell_type": "code",
   "execution_count": 11,
   "id": "7bfb77f6",
   "metadata": {},
   "outputs": [],
   "source": [
    "# lets convert this list l to set and see how it removes the duplicate values \n",
    "s1 = set(l)"
   ]
  },
  {
   "cell_type": "code",
   "execution_count": 12,
   "id": "e024a133",
   "metadata": {},
   "outputs": [
    {
     "data": {
      "text/plain": [
       "{12, 34, 55, 65, 67, 76, 88, 99}"
      ]
     },
     "execution_count": 12,
     "metadata": {},
     "output_type": "execute_result"
    }
   ],
   "source": [
    "s1 # only the unique values are taken in sets thats how sets removes the duplicates "
   ]
  },
  {
   "cell_type": "code",
   "execution_count": 13,
   "id": "b2c9e9d6",
   "metadata": {},
   "outputs": [],
   "source": [
    "s= {12,12,13,34,35,55,36,77,77,54,54,54,33,36,12,12}"
   ]
  },
  {
   "cell_type": "code",
   "execution_count": 14,
   "id": "803cc032",
   "metadata": {},
   "outputs": [
    {
     "data": {
      "text/plain": [
       "{12, 13, 33, 34, 35, 36, 54, 55, 77}"
      ]
     },
     "execution_count": 14,
     "metadata": {},
     "output_type": "execute_result"
    }
   ],
   "source": [
    "s # remove the dupliactes and return the "
   ]
  },
  {
   "cell_type": "code",
   "execution_count": 16,
   "id": "95c41930",
   "metadata": {},
   "outputs": [],
   "source": [
    "Lst = [1, 1, 1, 2, 1, 3, 1, 4, 2, 1, 2, 2, 2, 3, 2, 4, 3, 1, 3, 2, 3, 3, 3, 4, 4, 1, 4, 2, 4, 3, 4, 4]\n"
   ]
  },
  {
   "cell_type": "code",
   "execution_count": 18,
   "id": "27a349f0",
   "metadata": {},
   "outputs": [],
   "source": [
    "set1 = set(Lst)"
   ]
  },
  {
   "cell_type": "code",
   "execution_count": 19,
   "id": "ae7ee11d",
   "metadata": {},
   "outputs": [
    {
     "data": {
      "text/plain": [
       "{1, 2, 3, 4}"
      ]
     },
     "execution_count": 19,
     "metadata": {},
     "output_type": "execute_result"
    }
   ],
   "source": [
    "set1"
   ]
  },
  {
   "cell_type": "markdown",
   "id": "f7901b8d",
   "metadata": {},
   "source": [
    "# Q4. Explain the difference between the union() and update() methods for a set. Give an example of each method.\n"
   ]
  },
  {
   "cell_type": "code",
   "execution_count": 20,
   "id": "5f303150",
   "metadata": {},
   "outputs": [],
   "source": [
    "s2 = {1,2,3,4,5,6,6,6,7,8,8,9,9,5,4,3,35,6,5,5}\n",
    "s3 = {23,22,44,12,1,2,3,4,8,8,9,0,3,4,2,4,4,4}"
   ]
  },
  {
   "cell_type": "code",
   "execution_count": 23,
   "id": "b81c81e9",
   "metadata": {},
   "outputs": [
    {
     "data": {
      "text/plain": [
       "{1, 2, 3, 4, 5, 6, 7, 8, 9, 35}"
      ]
     },
     "execution_count": 23,
     "metadata": {},
     "output_type": "execute_result"
    }
   ],
   "source": [
    "s2"
   ]
  },
  {
   "cell_type": "code",
   "execution_count": 22,
   "id": "a25168d6",
   "metadata": {},
   "outputs": [
    {
     "data": {
      "text/plain": [
       "{0, 1, 2, 3, 4, 8, 9, 12, 22, 23, 44}"
      ]
     },
     "execution_count": 22,
     "metadata": {},
     "output_type": "execute_result"
    }
   ],
   "source": [
    "s3"
   ]
  },
  {
   "cell_type": "code",
   "execution_count": 24,
   "id": "a3654dc6",
   "metadata": {},
   "outputs": [
    {
     "data": {
      "text/plain": [
       "{0, 1, 2, 3, 4, 5, 6, 7, 8, 9, 12, 22, 23, 35, 44}"
      ]
     },
     "execution_count": 24,
     "metadata": {},
     "output_type": "execute_result"
    }
   ],
   "source": [
    "s2.union(s3)"
   ]
  },
  {
   "cell_type": "markdown",
   "id": "0b8c90ed",
   "metadata": {},
   "source": [
    "union() method ---->>> as we can see above that union() method make a set wuth all the unique values taken from the s2 and s3 and all the values are unique means there are no duplicate values. if both the set have some same values/element then it will take only one element . but union() method will not permanent store the elements of s3(inplace = False)"
   ]
  },
  {
   "cell_type": "code",
   "execution_count": 25,
   "id": "7b863b08",
   "metadata": {},
   "outputs": [],
   "source": [
    "s2.update()"
   ]
  },
  {
   "cell_type": "code",
   "execution_count": 27,
   "id": "7ef7e5c1",
   "metadata": {},
   "outputs": [],
   "source": [
    "s2.update(s3)"
   ]
  },
  {
   "cell_type": "code",
   "execution_count": 28,
   "id": "93e642a9",
   "metadata": {},
   "outputs": [
    {
     "data": {
      "text/plain": [
       "{0, 1, 2, 3, 4, 5, 6, 7, 8, 9, 12, 22, 23, 35, 44}"
      ]
     },
     "execution_count": 28,
     "metadata": {},
     "output_type": "execute_result"
    }
   ],
   "source": [
    "s2"
   ]
  },
  {
   "cell_type": "markdown",
   "id": "232df0dc",
   "metadata": {},
   "source": [
    "update() method ----->> like the union() method update function also add the elements of s3 in s2 but unlike the union method where inplace = False means values were not permanently stored but in update() method values/ elemenets are permanantely stored in s2 and s2 is updated with the collection of both sets unique values"
   ]
  },
  {
   "cell_type": "markdown",
   "id": "d9f3e560",
   "metadata": {},
   "source": [
    "# . What is a dictionary? Give an example. Also, state whether a dictionary is ordered or unordered."
   ]
  },
  {
   "cell_type": "markdown",
   "id": "97793c0c",
   "metadata": {},
   "source": [
    "Dictionary is a inbuilt data structure which holds the data in it in the form of keys and values (key-vaalue pair ) . key in the dictionary are unique and each key is having a correspondind values . dictionary are mutable data structures . if we want to fetch any data in the dictionaries then we don't use the index value but instead we fetch the data with the key name . dictionaries are mutable and we can also pass list,set,tuple,dictionaries as values but in the key we can pass only tuple as a key ."
   ]
  },
  {
   "cell_type": "code",
   "execution_count": 29,
   "id": "a1add14b",
   "metadata": {},
   "outputs": [],
   "source": [
    "# let's make  a dict\n",
    "dict1 = {'key':'value'}"
   ]
  },
  {
   "cell_type": "code",
   "execution_count": 30,
   "id": "902b2c5e",
   "metadata": {},
   "outputs": [],
   "source": [
    "dict2 = {'name':'Rohan' , 'course':'data science masters' , 'age' : 25 , 'duration' : '12 months'}"
   ]
  },
  {
   "cell_type": "code",
   "execution_count": 32,
   "id": "8efbe79a",
   "metadata": {},
   "outputs": [
    {
     "data": {
      "text/plain": [
       "'Rohan'"
      ]
     },
     "execution_count": 32,
     "metadata": {},
     "output_type": "execute_result"
    }
   ],
   "source": [
    "dict2['name'] # fetching the data by using key name "
   ]
  },
  {
   "cell_type": "code",
   "execution_count": 33,
   "id": "fa215f8d",
   "metadata": {},
   "outputs": [],
   "source": [
    "# adding the data \n",
    "dict2['surname'] = 'kalra'"
   ]
  },
  {
   "cell_type": "code",
   "execution_count": 34,
   "id": "46f62b51",
   "metadata": {},
   "outputs": [
    {
     "data": {
      "text/plain": [
       "{'name': 'Rohan',\n",
       " 'course': 'data science masters',\n",
       " 'age': 25,\n",
       " 'duration': '12 months',\n",
       " 'surname': 'kalra'}"
      ]
     },
     "execution_count": 34,
     "metadata": {},
     "output_type": "execute_result"
    }
   ],
   "source": [
    "dict2 # surname is added "
   ]
  },
  {
   "cell_type": "markdown",
   "id": "62e95503",
   "metadata": {},
   "source": [
    "Dictionaries in python are unordered it means dictionaries don't have a speicif index as we see above we are fetching data by using the key name and not using index position . and if we iterate through the dictionaries and fetching data through iteration we may get different result each time  "
   ]
  },
  {
   "cell_type": "markdown",
   "id": "3a65579c",
   "metadata": {},
   "source": [
    "# Q6. Can we create a nested dictionary? If so, please give an example by creating a simple one-level nested dictionary\n"
   ]
  },
  {
   "cell_type": "markdown",
   "id": "1b3b87b5",
   "metadata": {},
   "source": [
    "Yes we can create a nested doctionaries we can create a nested dictionary by assigning the value as a dictionary let's see this with an example "
   ]
  },
  {
   "cell_type": "code",
   "execution_count": 35,
   "id": "4c549b12",
   "metadata": {},
   "outputs": [],
   "source": [
    "# nested dictionaries \n",
    "dict1 = {'key': {'name':'rohan' , 'course':'data science' , 'institute': 'pw skills'}}"
   ]
  },
  {
   "cell_type": "code",
   "execution_count": 36,
   "id": "65bb7f99",
   "metadata": {},
   "outputs": [
    {
     "data": {
      "text/plain": [
       "'rohan'"
      ]
     },
     "execution_count": 36,
     "metadata": {},
     "output_type": "execute_result"
    }
   ],
   "source": [
    "# so above is the example of nested dictionary \n",
    "# how to fetch the data from nested dictionary\n",
    "dict1['key']['name']"
   ]
  },
  {
   "cell_type": "code",
   "execution_count": 37,
   "id": "8f6f07d8",
   "metadata": {},
   "outputs": [
    {
     "ename": "TypeError",
     "evalue": "unhashable type: 'dict'",
     "output_type": "error",
     "traceback": [
      "\u001b[1;31m---------------------------------------------------------------------------\u001b[0m",
      "\u001b[1;31mTypeError\u001b[0m                                 Traceback (most recent call last)",
      "\u001b[1;32m~\\AppData\\Local\\Temp\\ipykernel_13748\\1281768229.py\u001b[0m in \u001b[0;36m<module>\u001b[1;34m\u001b[0m\n\u001b[0;32m      1\u001b[0m \u001b[1;31m# let's see if we can pass our key as a dictionary\u001b[0m\u001b[1;33m\u001b[0m\u001b[1;33m\u001b[0m\u001b[0m\n\u001b[1;32m----> 2\u001b[1;33m \u001b[0mdict2\u001b[0m\u001b[1;33m=\u001b[0m \u001b[1;33m{\u001b[0m\u001b[1;33m{\u001b[0m\u001b[1;34m'name'\u001b[0m\u001b[1;33m:\u001b[0m\u001b[1;34m'rohan'\u001b[0m \u001b[1;33m,\u001b[0m \u001b[1;34m'course'\u001b[0m\u001b[1;33m:\u001b[0m\u001b[1;34m'data science'\u001b[0m\u001b[1;33m}\u001b[0m\u001b[1;33m:\u001b[0m\u001b[1;34m'value'\u001b[0m\u001b[1;33m}\u001b[0m\u001b[1;33m\u001b[0m\u001b[1;33m\u001b[0m\u001b[0m\n\u001b[0m",
      "\u001b[1;31mTypeError\u001b[0m: unhashable type: 'dict'"
     ]
    }
   ],
   "source": [
    "# let's see if we can pass our key as a dictionary \n",
    "dict2= {{'name':'rohan' , 'course':'data science'}:'value'}"
   ]
  },
  {
   "cell_type": "code",
   "execution_count": 38,
   "id": "5b25e137",
   "metadata": {},
   "outputs": [],
   "source": [
    "# we can not pass key as a dictionary so we can create a nested dictionary by passing the value as a dictionary only ."
   ]
  },
  {
   "cell_type": "markdown",
   "id": "314f9477",
   "metadata": {},
   "source": [
    "# Q7. Using setdefault() method, create key named topics in the given dictionary and also add the value of the key as this list ['Python', 'Machine Learning’, 'Deep Learning']\n",
    "\n",
    "\n",
    "\n",
    "dict1 = {'language' : 'Python', 'course': 'Data Science Masters'}"
   ]
  },
  {
   "cell_type": "code",
   "execution_count": 39,
   "id": "cfa519e1",
   "metadata": {},
   "outputs": [],
   "source": [
    "dict1 = {'language':'python' ,'course':'Data scinece masters'}"
   ]
  },
  {
   "cell_type": "code",
   "execution_count": 40,
   "id": "83887d60",
   "metadata": {},
   "outputs": [
    {
     "data": {
      "text/plain": [
       "['python', 'machine learning', 'Deep learning']"
      ]
     },
     "execution_count": 40,
     "metadata": {},
     "output_type": "execute_result"
    }
   ],
   "source": [
    "dict1.setdefault('topic' , ['python' , 'machine learning', 'Deep learning'])"
   ]
  },
  {
   "cell_type": "code",
   "execution_count": 41,
   "id": "73aac11e",
   "metadata": {},
   "outputs": [
    {
     "data": {
      "text/plain": [
       "{'language': 'python',\n",
       " 'course': 'Data scinece masters',\n",
       " 'topic': ['python', 'machine learning', 'Deep learning']}"
      ]
     },
     "execution_count": 41,
     "metadata": {},
     "output_type": "execute_result"
    }
   ],
   "source": [
    "dict1 # topic key is added to the list with the values as a list "
   ]
  },
  {
   "cell_type": "markdown",
   "id": "6812608c",
   "metadata": {},
   "source": [
    "# Q8. What are the three view objects in dictionaries? Use the three in-built methods in python to display these three view objects for the given dictionary.\n",
    "\n",
    "\n",
    "dict1 = {'Sport': 'Cricket' , 'Teams': ['India', 'Australia', 'England', 'South Africa', 'Sri Lanka', 'New Zealand']}"
   ]
  },
  {
   "cell_type": "code",
   "execution_count": 42,
   "id": "5574b1e6",
   "metadata": {},
   "outputs": [],
   "source": [
    "dict1 = {'Sport': 'Cricket' , 'Teams': ['India', 'Australia', 'England', 'South Africa', 'Sri Lanka', 'New Zealand']}"
   ]
  },
  {
   "cell_type": "markdown",
   "id": "562658c0",
   "metadata": {},
   "source": [
    "Three view objects --->>> in dictionaries the three view object are used for providing different views of the dictionaries . so three view objects basically means to fetching the keys() , values() and items() from the dictioanry to get different views of the dictioanries "
   ]
  },
  {
   "cell_type": "code",
   "execution_count": 43,
   "id": "6c7f72ed",
   "metadata": {},
   "outputs": [
    {
     "data": {
      "text/plain": [
       "dict_keys(['Sport', 'Teams'])"
      ]
     },
     "execution_count": 43,
     "metadata": {},
     "output_type": "execute_result"
    }
   ],
   "source": [
    "dict1.keys() # to get all the keys in the dictionary"
   ]
  },
  {
   "cell_type": "code",
   "execution_count": 44,
   "id": "9ef6b714",
   "metadata": {},
   "outputs": [
    {
     "data": {
      "text/plain": [
       "dict_values(['Cricket', ['India', 'Australia', 'England', 'South Africa', 'Sri Lanka', 'New Zealand']])"
      ]
     },
     "execution_count": 44,
     "metadata": {},
     "output_type": "execute_result"
    }
   ],
   "source": [
    "dict1.values() # to get all the values in the dictionaries"
   ]
  },
  {
   "cell_type": "code",
   "execution_count": 45,
   "id": "2d0cb3aa",
   "metadata": {},
   "outputs": [
    {
     "data": {
      "text/plain": [
       "dict_items([('Sport', 'Cricket'), ('Teams', ['India', 'Australia', 'England', 'South Africa', 'Sri Lanka', 'New Zealand'])])"
      ]
     },
     "execution_count": 45,
     "metadata": {},
     "output_type": "execute_result"
    }
   ],
   "source": [
    "dict1.items() # to get all the items in the dictionary"
   ]
  },
  {
   "cell_type": "markdown",
   "id": "9a880d78",
   "metadata": {},
   "source": [
    "# Thankyou for this opportunity "
   ]
  }
 ],
 "metadata": {
  "kernelspec": {
   "display_name": "Python 3 (ipykernel)",
   "language": "python",
   "name": "python3"
  },
  "language_info": {
   "codemirror_mode": {
    "name": "ipython",
    "version": 3
   },
   "file_extension": ".py",
   "mimetype": "text/x-python",
   "name": "python",
   "nbconvert_exporter": "python",
   "pygments_lexer": "ipython3",
   "version": "3.9.13"
  }
 },
 "nbformat": 4,
 "nbformat_minor": 5
}
