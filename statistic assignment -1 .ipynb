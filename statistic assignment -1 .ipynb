{
 "cells": [
  {
   "cell_type": "markdown",
   "id": "dbe89ae7",
   "metadata": {},
   "source": [
    "# Statistic assignment - 1"
   ]
  },
  {
   "cell_type": "markdown",
   "id": "4a27ea3a",
   "metadata": {},
   "source": [
    "# Q1. What is Statistics?"
   ]
  },
  {
   "cell_type": "markdown",
   "id": "fc8d6e27",
   "metadata": {},
   "source": [
    "statistic is an art of collecting summarizing and analysing of data in the statistic we take data (some piece of information) from some resources and then try to do use different statistics technique on the data . \n",
    "while statistic has two types one is descriptive and the other one is inferential statistic . Descriptive statistic is used for to get the different information from the data and inferential statistic used to get a conclusion from the data . statistic is an art which help us to get different aspects of data by giving us understanding of data deeply . "
   ]
  },
  {
   "cell_type": "markdown",
   "id": "c8862b15",
   "metadata": {},
   "source": [
    "# Q2. Define the different types of statistics and give an example of when each type might be used."
   ]
  },
  {
   "cell_type": "markdown",
   "id": "37e42b91",
   "metadata": {},
   "source": [
    "There are two types of statistics . -->> 1 . descriptive statistics  2 . inferential statistics. "
   ]
  },
  {
   "cell_type": "markdown",
   "id": "ef5f62ef",
   "metadata": {},
   "source": [
    "descriptive statistics -- >> descriptive statistics helps us to get the information of the data . \n",
    "descriptive statistcs-->> 1.measure of central tendency--> (a) mean (b) mode (c) median \n",
    "                        2. measure of dipersion -->> (a) variance   (b) standard deviation \n",
    "\n",
    "inferential statistics-->> by collecting a sample out of the population data and after applying some test or other statistical operation on the sample data we trying to get the insights from the population data . "
   ]
  },
  {
   "cell_type": "markdown",
   "id": "d743b5ae",
   "metadata": {},
   "source": [
    "examples -->>> \n",
    "descriptive --> let's say we have a data of height of student in  a class and we can collect the data and can easily find the mean which is average height here by using descriptive statistics . "
   ]
  },
  {
   "cell_type": "markdown",
   "id": "0c650e6b",
   "metadata": {},
   "source": [
    "examples --> inferential statistics -- by using some z test and p test we can find the outliers and can remove them and by using other techiques we can find the insights from the data . "
   ]
  },
  {
   "cell_type": "markdown",
   "id": "da378905",
   "metadata": {},
   "source": [
    "# Q3. What are the different types of data and how do they differ from each other? Provide an example of each type of data . "
   ]
  },
  {
   "cell_type": "markdown",
   "id": "bfeb94db",
   "metadata": {},
   "source": [
    "there are two types of data we have --->>> 1. quantitative 2.qualitative or categorical data "
   ]
  },
  {
   "cell_type": "markdown",
   "id": "b364f709",
   "metadata": {},
   "source": [
    "quantitative data -- >> this represents the numerical data on which we can apply different mathematical operation  , like plus mius , sub , division etc \n",
    "\n",
    "Quantitative data is divided into two different categories --->> 1 . Discrete 2.continuous data\n",
    "discrete data -->> this data is only in the form of whole numbers . like the of matches i have played till now this data can only be in form of 1, 2,20,100 etc this data is an example of dicerete data.another example of discrete data is the numbers of bank accounts we have like we have bank account = 1,2,3 , we can't say we have bank accounts like one and a half . \n",
    "\n",
    "\n",
    "continuous data --->> this data can in the form of whole or float no this can be anything like the temprature =32 degree or 32.2 degree this data can be in float digit or whole numbers."
   ]
  },
  {
   "cell_type": "markdown",
   "id": "3e5500d1",
   "metadata": {},
   "source": [
    "qualitative data or categorical data -->> this data often represents category or quality like name of colors , ranking of an app on playstore etc \n",
    "\n",
    "qualitative data also has two types --->> 1.nominal 2 .ordinal \n",
    "\n",
    "nominal data---> like nominal data is in the form of category but we can assign any rank or order to that data . for example - gender(mala and female) here the data is distributed in the form of category but this data doesn't represents any rank or order another example of this nominal data is blood group.\n",
    "\n",
    "\n",
    "ordinal data--> as it is also part of categorical data it also represents data in the form of category but here the data is having rank and category . for example-- color(red , green , yellow) here the colors are having different category like red for superior and green for avg and yellow in inferrior for a competition and also numerical data if it is using for ranking purpose can be example of ordinal data .  "
   ]
  },
  {
   "cell_type": "markdown",
   "id": "f8cf896c",
   "metadata": {},
   "source": [
    "# Q4. Categorise the following datasets with respect to quantitative and qualitative data types:"
   ]
  },
  {
   "cell_type": "markdown",
   "id": "f28c1991",
   "metadata": {},
   "source": [
    "(i) Grading in exam: A+, A, B+, B, C+, C, D, E --- this is the ordinal data because here data is categorical but it is distributed according to rank or order so it is qualitative data "
   ]
  },
  {
   "cell_type": "markdown",
   "id": "94b0e73a",
   "metadata": {},
   "source": [
    "(ii) Colour of mangoes: yellow, green, orange, red----> it represent qualitative data and in the qualitative data it is a nominal data type ."
   ]
  },
  {
   "cell_type": "markdown",
   "id": "55cfed54",
   "metadata": {},
   "source": [
    "(iii) Height data of a class: [178.9, 179, 179.5, 176, 177.2, 178.3, 175.8,...]--->> height data of a class is quantitative data and in tjhe quantitative data it represents continuous data "
   ]
  },
  {
   "cell_type": "markdown",
   "id": "c06677e5",
   "metadata": {},
   "source": [
    "(iv) Number of mangoes exported by a farm: [500, 600, 478, 672, ...]--->>> no of mangoes export can only be in whole number so it represents discrete data which is a type of quantitative data ."
   ]
  },
  {
   "cell_type": "markdown",
   "id": "36903a80",
   "metadata": {},
   "source": [
    "# Q5. Explain the concept of levels of measurement and give an example of a variable for each level."
   ]
  },
  {
   "cell_type": "markdown",
   "id": "597faf76",
   "metadata": {},
   "source": [
    "level of measurement also known as scale of measurement used to categorized data in different categories like if we have some kind of data how can we categorized the data into which part it is unknown to us then level of measurement helps us to get know about the data and feature of data . There are four main differennt level of measurement . \n",
    "\n",
    "1 nominal level of measurement --> at the nominal level data is simply categorized into disticts categories or group with no order and ranking . this data is qualitative \n",
    "example-->> gender(male , female , non binary) gender is a nominal varibale because it consist of categories wihtout order and ranking "
   ]
  },
  {
   "cell_type": "markdown",
   "id": "f9fe1485",
   "metadata": {},
   "source": [
    "2. odinal level -->> at the ordinal level data is also in category but here the order and ranking matters.But the intervals between category are not equal . we can only classified which category is superior or inferior. \n",
    "example-->> star rating(5,4,3,2,1) star rating is a ordinal level because rank and order matters here and can be calculated "
   ]
  },
  {
   "cell_type": "markdown",
   "id": "2ef095cd",
   "metadata": {},
   "source": [
    "3.interval level -->> at the interval level the interval between levels are equal or interpretable . there is no zero point in this level \n",
    "ratio between two data points doesn't matter. \n",
    "\n",
    "example--> temprature(temp can be -10 , -20 , 10 , 20 , 100) degree and if it is 0 then also we can say there is absence of data where the value is 0 , we can give order and ranking to interval data "
   ]
  },
  {
   "cell_type": "markdown",
   "id": "01e265b0",
   "metadata": {},
   "source": [
    "4.Ratio level -->> in ratio level data can be given order and ranking also there zero value does matter like if there is any zero value then it shows absence of data value and ratio between two data matters\n",
    "\n",
    "example -->> height data of a class student \n",
    "ratio matters between student height\n",
    "\n",
    "0 height is not possible \n",
    "\n",
    "order and ranking can be given to data (ascending , descending etc)"
   ]
  },
  {
   "cell_type": "markdown",
   "id": "ceaa6772",
   "metadata": {},
   "source": [
    "# Q6. Why is it important to understand the level of measurement when analyzing data? Provide an\n",
    "example to illustrate your answer."
   ]
  },
  {
   "cell_type": "markdown",
   "id": "06265903",
   "metadata": {},
   "source": [
    "understanding the level of measurement on the data is important because it helps us yo find out what type of statistical operation we can apply on the data to get the proper insights from the data and make better decisions ."
   ]
  },
  {
   "cell_type": "markdown",
   "id": "c4836497",
   "metadata": {},
   "source": [
    "we an find different types of insights from different type of data by applying different level of measurement . so level of measurement is important ."
   ]
  },
  {
   "cell_type": "markdown",
   "id": "3089cd75",
   "metadata": {},
   "source": [
    "example -->> three vehicles people used for travelling (car , bike , bus) from hisar to bhiwani "
   ]
  },
  {
   "cell_type": "markdown",
   "id": "1cf44d57",
   "metadata": {},
   "source": [
    "nominal-->>with nominal data we can check the frequency of each mode like we people used for travelling--\n",
    "car(50%) , bus(30%) , bike(20%)(can't check avg)\n",
    "\n",
    "ordinal-->with ordinal data we can check which is most preffered like (can't check avg)\n",
    "car>bus>bike \n",
    "\n",
    "interval -->with distance travelled daily we can find the avg speed covered by each vehicle daily . \n",
    "                                                                       \n",
    "ratio level-->> with ratio level we can check the ratio of speed of each vehicle and give them order and ranking"
   ]
  },
  {
   "cell_type": "markdown",
   "id": "2c9d993f",
   "metadata": {},
   "source": [
    "# Q7. How nominal data type is different from ordinal data type."
   ]
  },
  {
   "cell_type": "markdown",
   "id": "d9116411",
   "metadata": {},
   "source": [
    "qualitative data or categorical data -->> this data often represents category or quality like name of colors , ranking of an app on playstore etc \n",
    "\n",
    "qualitative data also has two types --->> 1.nominal 2 .ordinal \n",
    "\n",
    "nominal data---> like nominal data is in the form of category but we can assign any rank or order to that data . for example - gender(mala and female) here the data is distributed in the form of category but this data doesn't represents any rank or order another example of this nominal data is blood group.\n",
    "\n",
    "\n",
    "ordinal data--> as it is also part of categorical data it also represents data in the form of category but here the data is having rank and category . for example-- color(red , green , yellow) here the colors are having different category like red for superior and green for avg and yellow in inferrior for a competition and also numerical data if it is using for ranking purpose can be example of ordinal data .  "
   ]
  },
  {
   "cell_type": "markdown",
   "id": "8b02f709",
   "metadata": {},
   "source": [
    "# Q8. Which type of plot can be used to display data in terms of range?"
   ]
  },
  {
   "cell_type": "markdown",
   "id": "1d7a2124",
   "metadata": {},
   "source": [
    "\n",
    "A box plot, also known as a box-and-whisker plot, is commonly used to display data in terms of range. A box plot provides a visual representation of the distribution, central tendency, and spread of a dataset, including the minimum, maximum, quartiles, and potential outliers."
   ]
  },
  {
   "cell_type": "markdown",
   "id": "0f7cf0ae",
   "metadata": {},
   "source": [
    "# Q9. Describe the difference between descriptive and inferential statistics. Give an example of each\n",
    "type of statistics and explain how they are used."
   ]
  },
  {
   "cell_type": "markdown",
   "id": "4cb6b31c",
   "metadata": {},
   "source": [
    "descriptive statistics -- >> descriptive statistics helps us to get the information of the data . \n",
    "descriptive statistcs-->> 1.measure of central tendency--> (a) mean (b) mode (c) median \n",
    "                        2. measure of dipersion -->> (a) variance   (b) standard deviation \n",
    "\n",
    "inferential statistics-->> by collecting a sample out of the population data and after applying some test or other statistical operation on the sample data we trying to get the insights from the population data . "
   ]
  },
  {
   "cell_type": "markdown",
   "id": "001927c5",
   "metadata": {},
   "source": [
    "examples -->>> \n",
    "descriptive --> let's say we have a data of height of student in  a class and we can collect the data and can easily find the mean which is average height here by using descriptive statistics . "
   ]
  },
  {
   "cell_type": "markdown",
   "id": "6ee763a1",
   "metadata": {},
   "source": [
    "examples --> inferential statistics -- by using some z test and p test we can find the outliers and can remove them and by using other techiques we can find the insights from the data . "
   ]
  },
  {
   "cell_type": "markdown",
   "id": "e0357a0b",
   "metadata": {},
   "source": [
    "# Q10. What are some common measures of central tendency and variability used in statistics? Explain\n",
    "how each measure can be used to describe a dataset."
   ]
  },
  {
   "cell_type": "code",
   "execution_count": 6,
   "id": "bbca3348",
   "metadata": {},
   "outputs": [],
   "source": [
    "data = [1,1,2,3,4,5,5,5,6,6,7,8]"
   ]
  },
  {
   "cell_type": "markdown",
   "id": "0ad93939",
   "metadata": {},
   "source": [
    "measure of central tendency-->> mean , median , mode \n",
    "\n",
    "mean- used to find average of data = sum of all numbers/total numbers\n",
    "\n",
    "median-- arrange all numbers in ascending order then find the middle number \n",
    "\n",
    "mode-->> the frequency of a number like here 5 has come thrice so mode is 5 \n",
    "\n"
   ]
  },
  {
   "cell_type": "markdown",
   "id": "9c702d22",
   "metadata": {},
   "source": [
    "measure of variablity - variance , standard deviation , outliers  , interqunatile range(IQR)\n",
    "\n",
    "variance -- >> shows us the spreadness of data where the data is spread more \n",
    "\n",
    "standard deviation -->> square root of variance shows us the with 1 standard deviation how much data is spread .\n",
    "\n",
    "outliers -- outliers are data which are either too large/big or too small when compared to other 98% data .these values can effect our analysation so we need to remove them \n",
    "\n",
    "IQR(interquantile range)-->> Q3-Q1. It gives an idea of the spread of the middle 50% of the data, making it less sensitive to outliers compared to the range."
   ]
  },
  {
   "cell_type": "code",
   "execution_count": null,
   "id": "9d59239d",
   "metadata": {},
   "outputs": [],
   "source": []
  }
 ],
 "metadata": {
  "kernelspec": {
   "display_name": "Python 3 (ipykernel)",
   "language": "python",
   "name": "python3"
  },
  "language_info": {
   "codemirror_mode": {
    "name": "ipython",
    "version": 3
   },
   "file_extension": ".py",
   "mimetype": "text/x-python",
   "name": "python",
   "nbconvert_exporter": "python",
   "pygments_lexer": "ipython3",
   "version": "3.11.3"
  }
 },
 "nbformat": 4,
 "nbformat_minor": 5
}
